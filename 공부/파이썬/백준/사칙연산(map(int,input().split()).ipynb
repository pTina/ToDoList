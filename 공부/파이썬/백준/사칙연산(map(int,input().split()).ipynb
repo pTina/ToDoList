{
 "cells": [
  {
   "cell_type": "code",
   "execution_count": 20,
   "metadata": {},
   "outputs": [
    {
     "name": "stdout",
     "output_type": "stream",
     "text": [
      "1 2\n",
      "3\n",
      "-1\n",
      "2\n",
      "0\n",
      "1\n",
      "5 8 4\n",
      "1\n",
      "1\n",
      "0\n",
      "0\n"
     ]
    }
   ],
   "source": [
    "a, b = map(int, input().split())\n",
    "\n",
    "suum = a+b\n",
    "sub = a-b\n",
    "multiple = a*b\n",
    "quo = int(a/b)\n",
    "remain = a%b\n",
    "\n",
    "print(suum)\n",
    "print(sub)\n",
    "print(multiple)\n",
    "print(quo)\n",
    "print(remain)\n",
    "\n",
    "\n",
    "A, B, C= map(int,input().split())\n",
    "tf1 = (A+B)%C\n",
    "tf2 = ((A%C) + (B%C))%C\n",
    "tf3 = (A*B)%C\n",
    "tf4 = ((A%C) * (B%C))%C\n",
    "\n",
    "print(tf1)\n",
    "print(tf2)\n",
    "print(tf3)\n",
    "print(tf4)\n",
    "\n",
    "\n",
    "\n"
   ]
  },
  {
   "cell_type": "code",
   "execution_count": null,
   "metadata": {},
   "outputs": [],
   "source": []
  },
  {
   "cell_type": "code",
   "execution_count": null,
   "metadata": {},
   "outputs": [],
   "source": []
  }
 ],
 "metadata": {
  "kernelspec": {
   "display_name": "Python 3",
   "language": "python",
   "name": "python3"
  },
  "language_info": {
   "codemirror_mode": {
    "name": "ipython",
    "version": 3
   },
   "file_extension": ".py",
   "mimetype": "text/x-python",
   "name": "python",
   "nbconvert_exporter": "python",
   "pygments_lexer": "ipython3",
   "version": "3.8.0"
  }
 },
 "nbformat": 4,
 "nbformat_minor": 4
}
