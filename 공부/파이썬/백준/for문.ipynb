{
 "cells": [
  {
   "cell_type": "code",
   "execution_count": 9,
   "metadata": {},
   "outputs": [
    {
     "name": "stdout",
     "output_type": "stream",
     "text": [
      "2\n",
      "2 * 1 = 2\n",
      "2 * 2 = 4\n",
      "2 * 3 = 6\n",
      "2 * 4 = 8\n",
      "2 * 5 = 10\n",
      "2 * 6 = 12\n",
      "2 * 7 = 14\n",
      "2 * 8 = 16\n",
      "2 * 9 = 18\n"
     ]
    }
   ],
   "source": [
    "# 구구단\n",
    "# N을 입력받은 뒤, 구구단 N단을 출력하는 프로그램을 작성하시오. \n",
    "# 출력 형식에 맞춰서 출력하면 된다.\n",
    "\n",
    "# 첫째 줄에 N이 주어진다. N은 1보다 크거나 같고, 9보다 작거나 같다.\n",
    "\n",
    "# 출력형식과 같게 N*1부터 N*9까지 출력한다.\n",
    "\n",
    "# 출력형식\n",
    "# 2 * 1 = 2\n",
    "# 2 * 2 = 4\n",
    "# 2 * 3 = 6\n",
    "# 2 * 4 = 8\n",
    "# 2 * 5 = 10\n",
    "# 2 * 6 = 12\n",
    "# 2 * 7 = 14\n",
    "# 2 * 8 = 16\n",
    "# 2 * 9 = 18\n",
    "\n",
    "n = int(input())\n",
    "\n",
    "for i in range(1,10):\n",
    "    print(n,'*',i,'=',n*i)"
   ]
  },
  {
   "cell_type": "code",
   "execution_count": 13,
   "metadata": {},
   "outputs": [
    {
     "name": "stdout",
     "output_type": "stream",
     "text": [
      "5\n",
      "1 1\n",
      "2 3\n",
      "3 4\n",
      "9 8\n",
      "5 2\n",
      "2\n",
      "5\n",
      "7\n",
      "17\n",
      "7\n"
     ]
    }
   ],
   "source": [
    "# 두 정수 A와 B를 입력받은 다음, A+B를 출력하는 프로그램을 작성하시오.\n",
    "\n",
    "# 입력\n",
    "# 첫째 줄에 테스트 케이스의 개수 T가 주어진다.\n",
    "# 각 테스트 케이스는 한 줄로 이루어져 있으며, \n",
    "# 각 줄에 A와 B가 주어진다. (0 < A, B < 10)\n",
    "\n",
    "# 각 테스트 케이스마다 A+B를 출력한다.\n",
    "\n",
    "t = int(input())\n",
    "result = []\n",
    "for i in range(t):\n",
    "    a, b = map(int, input().split())\n",
    "    result.append(a+b)\n",
    "\n",
    "for i in result:\n",
    "    print(i)"
   ]
  },
  {
   "cell_type": "code",
   "execution_count": 14,
   "metadata": {},
   "outputs": [
    {
     "name": "stdout",
     "output_type": "stream",
     "text": [
      "3\n",
      "6\n"
     ]
    }
   ],
   "source": [
    "# n이 주어졌을 때, 1부터 n까지 합을 구하는 프로그램을 작성하시오.\n",
    "# 첫째 줄에 n (1 ≤ n ≤ 10,000)이 주어진다.\n",
    "# 1부터 n까지 합을 출력한다.\n",
    "\n",
    "num = int(input())\n",
    "result = 0\n",
    "\n",
    "for i in range(1,num+1):\n",
    "    result += i\n",
    "    \n",
    "print(result)"
   ]
  },
  {
   "cell_type": "code",
   "execution_count": 1,
   "metadata": {},
   "outputs": [
    {
     "name": "stdout",
     "output_type": "stream",
     "text": [
      "\n"
     ]
    }
   ],
   "source": [
    "# 본격적으로 for문 문제를 풀기 전에 주의해야 할 점이 있다. \n",
    "# 입출력 방식이 느리면 여러 줄을 입력받거나 출력할 때 시간초과가 날 수 있다는 점이다.\n",
    "\n",
    "# Python을 사용하고 있다면, input 대신 sys.stdin.readline을 사용할 수 있다.\n",
    "# 단, 이때는 맨 끝의 개행문자까지 같이 입력받기 때문에 문자열을 저장하고 싶을 경우 \n",
    "# .rstrip()을 추가로 해 주는 것이 좋다.\n",
    "\n",
    "# 또한 입력과 출력 스트림은 별개이므로, \n",
    "# 테스트케이스를 전부 입력받아서 저장한 뒤 전부 출력할 필요는 없다. \n",
    "# 테스트케이스를 하나 받은 뒤 하나 출력해도 된다.\n",
    "\n",
    "# 입력\n",
    "# 첫 줄에 테스트케이스의 개수 T가 주어진다. \n",
    "# T는 최대 1,000,000이다. \n",
    "# 다음 T줄에는 각각 두 정수 A와 B가 주어진다.\n",
    "# A와 B는 1 이상, 1,000 이하이다.\n",
    "\n",
    "# 출력\n",
    "# 각 테스트케이스마다 A+B를 한 줄에 하나씩 순서대로 출력한다.\n",
    "import sys\n",
    "\n",
    "n = sys.stdin.readline()\n",
    "\n",
    "print(n)\n"
   ]
  },
  {
   "cell_type": "code",
   "execution_count": 8,
   "metadata": {},
   "outputs": [
    {
     "name": "stdout",
     "output_type": "stream",
     "text": [
      "5\n",
      "1\n",
      "2\n",
      "3\n",
      "4\n",
      "5\n"
     ]
    }
   ],
   "source": [
    "# 자연수 N이 주어졌을 때, 1부터 N까지 한 줄에 하나씩 출력하는 프로그램을 작성하시오.\n",
    "\n",
    "n = int(input())\n",
    "\n",
    "for i in range(1,n+1):\n",
    "    print(i)"
   ]
  },
  {
   "cell_type": "code",
   "execution_count": 10,
   "metadata": {},
   "outputs": [
    {
     "name": "stdout",
     "output_type": "stream",
     "text": [
      "5\n",
      "5\n",
      "4\n",
      "3\n",
      "2\n",
      "1\n"
     ]
    }
   ],
   "source": [
    "# 자연수 N이 주어졌을 때, N부터 1까지 한 줄에 하나씩 출력하는 프로그램을 작성하시오.\n",
    "\n",
    "n = int(input())\n",
    "\n",
    "for i in range(n,0,-1):\n",
    "    print(i)"
   ]
  },
  {
   "cell_type": "code",
   "execution_count": null,
   "metadata": {},
   "outputs": [],
   "source": [
    "# 두 정수 A와 B를 입력받은 다음, A+B를 출력하는 프로그램을 작성하시오.\n",
    "\n",
    "# 입력\n",
    "# 첫째 줄에 테스트 케이스의 개수 T가 주어진다.\n",
    "# 각 테스트 케이스는 한 줄로 이루어져 있으며, 각 줄에 A와 B가 주어진다. (0 < A, B < 10)\n",
    "\n",
    "# 출력\n",
    "# 각 테스트 케이스마다 \"Case #x: \"를 출력한 다음, A+B를 출력한다.\n",
    "# 테스트 케이스 번호는 1부터 시작한다.\n"
   ]
  }
 ],
 "metadata": {
  "kernelspec": {
   "display_name": "Python 3",
   "language": "python",
   "name": "python3"
  },
  "language_info": {
   "codemirror_mode": {
    "name": "ipython",
    "version": 3
   },
   "file_extension": ".py",
   "mimetype": "text/x-python",
   "name": "python",
   "nbconvert_exporter": "python",
   "pygments_lexer": "ipython3",
   "version": "3.8.0"
  }
 },
 "nbformat": 4,
 "nbformat_minor": 4
}
