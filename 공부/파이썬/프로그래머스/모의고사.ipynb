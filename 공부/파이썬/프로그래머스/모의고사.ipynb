{
 "cells": [
  {
   "cell_type": "code",
   "execution_count": 62,
   "metadata": {},
   "outputs": [
    {
     "name": "stdout",
     "output_type": "stream",
     "text": [
      "3\n"
     ]
    },
    {
     "data": {
      "text/plain": [
       "[1]"
      ]
     },
     "execution_count": 62,
     "metadata": {},
     "output_type": "execute_result"
    }
   ],
   "source": [
    "# 1번 수포자가 찍는 방식: 1, 2, 3, 4, 5\n",
    "# 2번 수포자가 찍는 방식: 2, 1, 2, 3, 2, 4, 2, 5\n",
    "# 3번 수포자가 찍는 방식: 3, 3, 1, 1, 2, 2, 4, 4, 5, 5\n",
    "\n",
    "# 1번 문제부터 마지막 문제까지의 정답이 순서대로 들은 배열 answers가 주어졌을 때,\n",
    "# 가장 많은 문제를 맞힌 사람이 누구인지 배열에 담아\n",
    "# return 하도록 solution 함수를 작성해주세요.\n",
    "\n",
    "# 제한 조건\n",
    "# 시험은 최대 10,000 문제로 구성되어있습니다.\n",
    "# 문제의 정답은 1, 2, 3, 4, 5중 하나입니다.\n",
    "# 가장 높은 점수를 받은 사람이 여럿일 경우, return하는 값을 오름차순 정렬해주세요.\n",
    "\n",
    "p1array=[1, 2, 3, 4, 5]\n",
    "p2array=[2, 1, 2, 3, 2, 4, 2, 5]\n",
    "p3array=[3, 3, 1, 1, 2, 2, 4, 4, 5, 5]\n",
    "           \n",
    "def test(arr1,arr2):\n",
    "    count=0\n",
    "    n = 0\n",
    "    for i in arr1:\n",
    "        if(i == arr2[n]):\n",
    "            count += 1\n",
    "            n = n+1\n",
    "        else:\n",
    "            n = n+1\n",
    "        \n",
    "        if(n>=len(arr2)):\n",
    "                n = 0\n",
    "    return count\n",
    "\n",
    "\n",
    "def solution(answers):\n",
    "    answer=[]\n",
    "    p1 = test(answers, p1array)\n",
    "    p2 = test(answers, p2array)\n",
    "    p3 = test(answers, p3array)\n",
    "    parray = [p1,p2,p3]\n",
    "    \n",
    "    max_score = max(parray)\n",
    "    print(max_score)\n",
    "    for i in range(3):\n",
    "        if parray[i] == max_score:\n",
    "            answer.append(i+1)\n",
    "    return answer\n",
    "\n",
    "solution([1,3,2,4,5])\n",
    "\n",
    "\n"
   ]
  },
  {
   "cell_type": "code",
   "execution_count": 57,
   "metadata": {},
   "outputs": [
    {
     "name": "stdout",
     "output_type": "stream",
     "text": [
      "[1, 2, 3]\n",
      "['a', 'b', 'c']\n",
      "3\n",
      "1\n",
      "2\n",
      "3\n"
     ]
    }
   ],
   "source": [
    "array = {'a':1, 'b':2, 'c':3}\n",
    "print(list(array.values()))\n",
    "print(list(array.keys()))\n",
    "print(len(array))\n",
    "\n",
    "\n",
    "for i in array.values():\n",
    "    print(i)"
   ]
  },
  {
   "cell_type": "code",
   "execution_count": null,
   "metadata": {},
   "outputs": [],
   "source": []
  },
  {
   "cell_type": "code",
   "execution_count": null,
   "metadata": {},
   "outputs": [],
   "source": []
  }
 ],
 "metadata": {
  "kernelspec": {
   "display_name": "Python 3",
   "language": "python",
   "name": "python3"
  },
  "language_info": {
   "codemirror_mode": {
    "name": "ipython",
    "version": 3
   },
   "file_extension": ".py",
   "mimetype": "text/x-python",
   "name": "python",
   "nbconvert_exporter": "python",
   "pygments_lexer": "ipython3",
   "version": "3.8.0"
  }
 },
 "nbformat": 4,
 "nbformat_minor": 4
}
