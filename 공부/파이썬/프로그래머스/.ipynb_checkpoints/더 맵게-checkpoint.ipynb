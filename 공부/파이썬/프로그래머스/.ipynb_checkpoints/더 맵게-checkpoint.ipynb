{
 "cells": [
  {
   "cell_type": "code",
   "execution_count": 41,
   "metadata": {},
   "outputs": [
    {
     "data": {
      "text/plain": [
       "2"
      ]
     },
     "execution_count": 41,
     "metadata": {},
     "output_type": "execute_result"
    }
   ],
   "source": [
    "# 매운 것을 좋아하는 Leo는 모든 음식의 스코빌 지수를 K 이상으로 만들고 싶습니다. \n",
    "# 모든 음식의 스코빌 지수를 K 이상으로 만들기 위해 Leo는 스코빌 지수가 가장 낮은 두 개의 음식을 \n",
    "# 아래와 같이 특별한 방법으로 섞어 새로운 음식을 만듭니다.\n",
    "\n",
    "# 섞은 음식의 스코빌 지수 = 가장 맵지 않은 음식의 스코빌 지수 + (두 번째로 맵지 않은 음식의 스코빌 지수 * 2)\n",
    "\n",
    "# Leo는 모든 음식의 스코빌 지수가 K 이상이 될 때까지 반복하여 섞습니다.\n",
    "# Leo가 가진 음식의 스코빌 지수를 담은 배열 scoville과 원하는 스코빌 지수 K가 주어질 때, \n",
    "# 모든 음식의 스코빌 지수를 K 이상으로 만들기 위해 섞어야 하는\n",
    "# 최소 횟수를 return 하도록 solution 함수를 작성해주세요.\n",
    "\n",
    "# 제한 사항\n",
    "# scoville의 길이는 2 이상 1,000,000 이하입니다.\n",
    "# K는 0 이상 1,000,000,000 이하입니다.\n",
    "# scoville의 원소는 각각 0 이상 1,000,000 이하입니다.\n",
    "# 모든 음식의 스코빌 지수를 K 이상으로 만들 수 없는 경우에는 -1을 return 합니다.\n",
    "\n",
    "def solution(scoville, K):\n",
    "    count = 0 #연산 카운트 변수\n",
    "    scoville = sorted(scoville)  #배열을 정렬한다\n",
    "    while(scoville[0]<K):  #가장 작은 값이 K 미만이면\n",
    "            new_sc = scoville[0]+(scoville[1]*2) #연산 수행\n",
    "            count += 1 #연산 카운트 증가\n",
    "            del scoville[0:2] # scoville[0], scoville[1]삭제\n",
    "            scoville.append(new_sc) # 배열 뒤에 연산된 결과를 넣는다.\n",
    "            scoville = sorted(scoville) # 다시 정렬한다.\n",
    "            # (예외처리) 연산이 배열의 크기가 1이 될 때까지 하고 그 값이 K미만일 때 \n",
    "            if(len(scoville) == 1 and scoville[0]<K): \n",
    "                return -1\n",
    "\n",
    "    answer = count\n",
    "    return answer\n",
    "\n",
    "solution([1, 2, 3, 9, 10, 12], 7)\n"
   ]
  },
  {
   "cell_type": "code",
   "execution_count": null,
   "metadata": {},
   "outputs": [],
   "source": [
    "\n"
   ]
  },
  {
   "cell_type": "code",
   "execution_count": null,
   "metadata": {},
   "outputs": [],
   "source": []
  },
  {
   "cell_type": "code",
   "execution_count": null,
   "metadata": {},
   "outputs": [],
   "source": []
  }
 ],
 "metadata": {
  "kernelspec": {
   "display_name": "Python 3",
   "language": "python",
   "name": "python3"
  },
  "language_info": {
   "codemirror_mode": {
    "name": "ipython",
    "version": 3
   },
   "file_extension": ".py",
   "mimetype": "text/x-python",
   "name": "python",
   "nbconvert_exporter": "python",
   "pygments_lexer": "ipython3",
   "version": "3.8.0"
  }
 },
 "nbformat": 4,
 "nbformat_minor": 4
}
