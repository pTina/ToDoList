{
 "cells": [
  {
   "cell_type": "code",
   "execution_count": 8,
   "metadata": {},
   "outputs": [
    {
     "data": {
      "text/plain": [
       "'leo'"
      ]
     },
     "execution_count": 8,
     "metadata": {},
     "output_type": "execute_result"
    }
   ],
   "source": [
    "# 마라톤에 참여한 선수들의 이름이 담긴 배열 participant\n",
    "# 완주한 선수들의 이름이 담긴 배열 completion이 주어질 때,\n",
    "# 완주하지 못한 선수의 이름을 return\n",
    "\n",
    "# 제한사항\n",
    "# 마라톤 경기에 참여한 선수의 수는 1명 이상 100,000명 이하입니다.\n",
    "# completion의 길이는 participant의 길이보다 1 작습니다.\n",
    "# 참가자의 이름은 1개 이상 20개 이하의 알파벳 소문자로 이루어져 있습니다.\n",
    "# 참가자 중에는 동명이인이 있을 수 있습니다.\n",
    "\n",
    "# 참가자 명단에서 완주자 명단이 있는지 확인\n",
    "# 참가자에 완주자 있으면 삭제\n",
    "\n",
    "# 효율성 0 풀이\n",
    "\n",
    "def solution(participant, completion):\n",
    "\n",
    "    for i in range(len(completion)):\n",
    "        if completion[i] in participant:\n",
    "            participant.remove(completion[i])\n",
    "    \n",
    "    answer = participant[0]\n",
    "    return answer\n",
    "\n",
    "solution(['leo', 'kiki', 'eden'],['eden', 'kiki'])"
   ]
  },
  {
   "cell_type": "code",
   "execution_count": 12,
   "metadata": {},
   "outputs": [
    {
     "data": {
      "text/plain": [
       "'leo'"
      ]
     },
     "execution_count": 12,
     "metadata": {},
     "output_type": "execute_result"
    }
   ],
   "source": [
    "\n",
    "\n",
    "# 효율성 통과\n",
    "def solution(participant, completion):\n",
    "    \n",
    "    participant.sort()\n",
    "    completion.sort()\n",
    "    \n",
    "    for p, c in zip(participant,completion):\n",
    "        if p != c:\n",
    "            return p\n",
    "    \n",
    "    return participant[-1]     # 배열의 마지막 원소 리턴\n",
    "\n",
    "solution(['leo', 'kiki', 'eden'],['eden', 'kiki'])"
   ]
  },
  {
   "cell_type": "code",
   "execution_count": 11,
   "metadata": {},
   "outputs": [
    {
     "name": "stdout",
     "output_type": "stream",
     "text": [
      "[(1, 2), (2, 3), (3, 4)]\n"
     ]
    }
   ],
   "source": [
    "# zip() -> 동일한 개수로 이뤄진 두 자료형을 순서대로 짝지어 튜플로 묶어주는 함수\n",
    "# 동일한 개수가 아닌 경우 작은 개수로 맞춰 짝지어진다.\n",
    "a = [1,2,3,4]\n",
    "b = [2,3,4]\n",
    "\n",
    "print(list(zip(a,b)))"
   ]
  },
  {
   "cell_type": "code",
   "execution_count": null,
   "metadata": {},
   "outputs": [],
   "source": []
  }
 ],
 "metadata": {
  "kernelspec": {
   "display_name": "Python 3",
   "language": "python",
   "name": "python3"
  },
  "language_info": {
   "codemirror_mode": {
    "name": "ipython",
    "version": 3
   },
   "file_extension": ".py",
   "mimetype": "text/x-python",
   "name": "python",
   "nbconvert_exporter": "python",
   "pygments_lexer": "ipython3",
   "version": "3.8.0"
  }
 },
 "nbformat": 4,
 "nbformat_minor": 4
}
