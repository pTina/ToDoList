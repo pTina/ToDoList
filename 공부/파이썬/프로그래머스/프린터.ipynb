{
 "cells": [
  {
   "cell_type": "code",
   "execution_count": 41,
   "metadata": {},
   "outputs": [
    {
     "name": "stdout",
     "output_type": "stream",
     "text": [
      "결과 [3, 2, 2, 1] index [2, 3, 0, 1]\n"
     ]
    },
    {
     "data": {
      "text/plain": [
       "1"
      ]
     },
     "execution_count": 41,
     "metadata": {},
     "output_type": "execute_result"
    }
   ],
   "source": [
    "# 1. 인쇄 대기목록의 가장 앞에 있는 문서(J)를 대기목록에서 꺼냅니다.\n",
    "# 2. 나머지 인쇄 대기목록에서 J보다 중요도가 높은 문서가 한 개라도 존재하면 J를 대기목록의 가장 마지막에 넣습니다.\n",
    "# 3. 그렇지 않으면 J를 인쇄합니다.\n",
    "\n",
    "# 예를 들어, 4개의 문서(A, B, C, D)가 순서대로 인쇄 대기목록에 있고\n",
    "# 중요도가 2 1 3 2 라면 C D A B 순으로 인쇄하게 됩니다.\n",
    "\n",
    "# 현재 대기목록에 있는 문서의 중요도가 순서대로 담긴 배열 priorities와\n",
    "# 내가 인쇄를 요청한 문서가 현재 대기목록의 어떤 위치에 있는지를 알려주는 location이 매개변수로 주어질 때,\n",
    "# 내가 인쇄를 요청한 문서가 몇 번째로 인쇄되는지 return 하도록 solution 함수를 작성해주세요.\n",
    "\n",
    "# 제한사항\n",
    "# 현재 대기목록에는 1개 이상 100개 이하의 문서가 있습니다.\n",
    "# 인쇄 작업의 중요도는 1~9로 표현하며 숫자가 클수록 중요하다는 뜻입니다.\n",
    "# location은 0 이상 (현재 대기목록에 있는 작업 수 - 1) 이하의 값을 가지며\n",
    "# 대기목록의 가장 앞에 있으면 0, 두 번째에 있으면 1로 표현합니다.\n",
    "\n",
    " \n",
    "def solution(priorities, location):\n",
    "    location_array =[a for a in range(len(priorities))]\n",
    "    result1 = []\n",
    "    result2 = []\n",
    "    while True :\n",
    "        max_num = max(priorities)\n",
    "        if priorities[0] < max_num:\n",
    "            priorities.append(priorities[0])\n",
    "            priorities.pop(0)\n",
    "            location_array.append(location_array[0])\n",
    "            location_array.pop(0)\n",
    "        else:\n",
    "            result1.append(priorities[0])\n",
    "            result2.append(location_array[0])\n",
    "            priorities.pop(0)\n",
    "            location_array.pop(0)\n",
    "            \n",
    "        if len(priorities) == 0:\n",
    "            break\n",
    "    print('결과',result1,'index',result2)\n",
    "    \n",
    "    answer = result2.index(location)+1\n",
    "    return answer\n",
    "\n",
    "\n",
    "\n",
    "solution([2, 1, 3, 2]\t,2)"
   ]
  },
  {
   "cell_type": "code",
   "execution_count": null,
   "metadata": {},
   "outputs": [],
   "source": [
    "# 스택: LIFO (Last In First Out)\n",
    "# 나중에 넣은 데이터를 먼저 반환\n",
    "# 데이터의 입력 push, 출력 pop\n",
    "# 파이썬 내장함수 이용하여 push -> append(), 출력 -> pop()\n",
    "\n",
    "# 큐: FIFO (First In First Out)\n",
    "# 가장 먼저 넣은 데이터를 먼저 반환\n",
    "# 출력 -> pop(0) : a에 처음 넣은 값 출력하게 됨\n",
    "import string\n",
    "\n",
    "alpha = string.ascii_lowercase\n",
    "array = []\n",
    "    \n",
    "a = [1,2,3,4]\n",
    "a.pop(2)\n",
    "print(a)\n",
    "\n",
    "# pop(0)이용하여 데이터 출력하는 것은 시간복잡도가 O(n) -> 효율성이 떨어짐\n",
    "# from collection import deque\n",
    "# queue = deque()\n",
    "# queue.popleft()\n",
    "# 이렇게 사용하면 효율성이 높아짐\n",
    "\n",
    "\n",
    "for i in range(0,4):\n",
    "    array.append(alpha[i])\n",
    "print(array)\n"
   ]
  },
  {
   "cell_type": "code",
   "execution_count": 21,
   "metadata": {},
   "outputs": [],
   "source": [
    "# 1. 인쇄 대기목록의 가장 앞에 있는 문서(J)를 대기목록에서 꺼냅니다.\n",
    "# 2. 나머지 인쇄 대기목록에서 J보다 중요도가 높은 문서가 한 개라도 존재하면 J를 대기목록의 가장 마지막에 넣습니다.\n",
    "# 3. 그렇지 않으면 J를 인쇄합니다.\n",
    "\n",
    "def solution(priorities, location):\n",
    "    array1= sorted(priorities)\n",
    "    result = []\n",
    "    while True :\n",
    "        max_num = max(priorities)\n",
    "        if priorities[0] < max_num:\n",
    "            priorities.append(priorities[0])\n",
    "            priorities.pop(0)\n",
    "            print('중요도',priorities)\n",
    "        else:\n",
    "            result.append(priorities[0])\n",
    "            priorities.pop(0)\n",
    "            print('결과',result)\n",
    "        if len(priorities) == 0:\n",
    "            break\n",
    "            \n",
    "    \n",
    "    answer = result\n",
    "    return answer"
   ]
  },
  {
   "cell_type": "code",
   "execution_count": null,
   "metadata": {},
   "outputs": [],
   "source": []
  },
  {
   "cell_type": "code",
   "execution_count": null,
   "metadata": {},
   "outputs": [],
   "source": []
  },
  {
   "cell_type": "code",
   "execution_count": null,
   "metadata": {},
   "outputs": [],
   "source": []
  },
  {
   "cell_type": "code",
   "execution_count": null,
   "metadata": {},
   "outputs": [],
   "source": []
  },
  {
   "cell_type": "code",
   "execution_count": null,
   "metadata": {},
   "outputs": [],
   "source": []
  },
  {
   "cell_type": "code",
   "execution_count": null,
   "metadata": {},
   "outputs": [],
   "source": []
  }
 ],
 "metadata": {
  "kernelspec": {
   "display_name": "Python 3",
   "language": "python",
   "name": "python3"
  },
  "language_info": {
   "codemirror_mode": {
    "name": "ipython",
    "version": 3
   },
   "file_extension": ".py",
   "mimetype": "text/x-python",
   "name": "python",
   "nbconvert_exporter": "python",
   "pygments_lexer": "ipython3",
   "version": "3.8.0"
  }
 },
 "nbformat": 4,
 "nbformat_minor": 4
}
