{
 "cells": [
  {
   "cell_type": "code",
   "execution_count": 10,
   "metadata": {},
   "outputs": [
    {
     "data": {
      "text/plain": [
       "'we'"
      ]
     },
     "execution_count": 10,
     "metadata": {},
     "output_type": "execute_result"
    }
   ],
   "source": [
    "# 단어 s의 가운데 글자를 반환하는 함수\n",
    "# 단어의 길이가 짝수라면 가운데 두글자를 반환하면 됩니다.\n",
    "# 제한사항\n",
    "#     s는 길이가 1이상 100이하인 스트링입니다.\n",
    "\n",
    "def solution(s):\n",
    "    answer = ''\n",
    "    #문자열이 홀수일 때\n",
    "    if(len(s)%2 != 0):\n",
    "        answer = s[len(s)//2]\n",
    "    #문자열이 짝수일 때\n",
    "    else:\n",
    "        answer = s[(len(s)//2-1):(len(s)//2)+1]\n",
    "    return answer\n",
    "\n",
    "solution('qwer')"
   ]
  },
  {
   "cell_type": "code",
   "execution_count": null,
   "metadata": {},
   "outputs": [],
   "source": []
  },
  {
   "cell_type": "code",
   "execution_count": null,
   "metadata": {},
   "outputs": [],
   "source": []
  }
 ],
 "metadata": {
  "kernelspec": {
   "display_name": "Python 3",
   "language": "python",
   "name": "python3"
  },
  "language_info": {
   "codemirror_mode": {
    "name": "ipython",
    "version": 3
   },
   "file_extension": ".py",
   "mimetype": "text/x-python",
   "name": "python",
   "nbconvert_exporter": "python",
   "pygments_lexer": "ipython3",
   "version": "3.8.0"
  }
 },
 "nbformat": 4,
 "nbformat_minor": 4
}
